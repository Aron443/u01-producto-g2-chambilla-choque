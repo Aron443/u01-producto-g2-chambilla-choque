{
  "nbformat": 4,
  "nbformat_minor": 0,
  "metadata": {
    "colab": {
      "provenance": [],
      "authorship_tag": "ABX9TyPlD3zfa4lKrl/iB7l9/QLJ",
      "include_colab_link": true
    },
    "kernelspec": {
      "name": "python3",
      "display_name": "Python 3"
    },
    "language_info": {
      "name": "python"
    }
  },
  "cells": [
    {
      "cell_type": "markdown",
      "metadata": {
        "id": "view-in-github",
        "colab_type": "text"
      },
      "source": [
        "<a href=\"https://colab.research.google.com/github/Aron443/u01-producto-g2-chambilla-choque/blob/main/Menu_de_Opciones.ipynb\" target=\"_parent\"><img src=\"https://colab.research.google.com/assets/colab-badge.svg\" alt=\"Open In Colab\"/></a>"
      ]
    },
    {
      "cell_type": "code",
      "execution_count": 32,
      "metadata": {
        "id": "eBWAjiadWTLw",
        "colab": {
          "base_uri": "https://localhost:8080/",
          "height": 554
        },
        "outputId": "2b89bee0-c0ae-4084-b0c8-dc8bce5ea250"
      },
      "outputs": [
        {
          "output_type": "stream",
          "name": "stdout",
          "text": [
            "--------Menu Principal--------\n",
            "1. Algoritmo Aditivo\n",
            "2. Algoritmo Blum Blum y Shub\n",
            "3. Algoritmo Congruencial Cuadrativo\n",
            "4. Algoritmo Lineal\n",
            "Elija un Algoritmo: 3\n",
            "Cuantos Numeros desea generar? 5\n",
            "Introduzca la semilla 13\n",
            "Los numeros generados son: \n",
            "[0.5714285714285714, 1.0, 0.2857142857142857, 0.14285714285714285, 0.0]\n"
          ]
        },
        {
          "output_type": "error",
          "ename": "KeyboardInterrupt",
          "evalue": "ignored",
          "traceback": [
            "\u001b[0;31m---------------------------------------------------------------------------\u001b[0m",
            "\u001b[0;31mKeyboardInterrupt\u001b[0m                         Traceback (most recent call last)",
            "\u001b[0;32m<ipython-input-32-471af31485b5>\u001b[0m in \u001b[0;36m<module>\u001b[0;34m\u001b[0m\n\u001b[1;32m     68\u001b[0m     \u001b[0mprint\u001b[0m\u001b[0;34m(\u001b[0m\u001b[0;34m\"Los numeros generados son: \"\u001b[0m\u001b[0;34m)\u001b[0m\u001b[0;34m\u001b[0m\u001b[0;34m\u001b[0m\u001b[0m\n\u001b[1;32m     69\u001b[0m     \u001b[0malgoritmo_cuadrativo\u001b[0m\u001b[0;34m(\u001b[0m\u001b[0mcantidad\u001b[0m\u001b[0;34m,\u001b[0m \u001b[0msemilla\u001b[0m\u001b[0;34m)\u001b[0m\u001b[0;34m\u001b[0m\u001b[0;34m\u001b[0m\u001b[0m\n\u001b[0;32m---> 70\u001b[0;31m   \u001b[0mpausa\u001b[0m \u001b[0;34m=\u001b[0m \u001b[0minput\u001b[0m\u001b[0;34m(\u001b[0m\u001b[0;34m\"Presione cualquier tecla para volver al Menu... \"\u001b[0m\u001b[0;34m)\u001b[0m\u001b[0;34m\u001b[0m\u001b[0;34m\u001b[0m\u001b[0m\n\u001b[0m\u001b[1;32m     71\u001b[0m \u001b[0;34m\u001b[0m\u001b[0m\n\u001b[1;32m     72\u001b[0m \u001b[0;34m\u001b[0m\u001b[0m\n",
            "\u001b[0;32m/usr/local/lib/python3.7/dist-packages/ipykernel/kernelbase.py\u001b[0m in \u001b[0;36mraw_input\u001b[0;34m(self, prompt)\u001b[0m\n\u001b[1;32m    861\u001b[0m             \u001b[0mself\u001b[0m\u001b[0;34m.\u001b[0m\u001b[0m_parent_ident\u001b[0m\u001b[0;34m,\u001b[0m\u001b[0;34m\u001b[0m\u001b[0;34m\u001b[0m\u001b[0m\n\u001b[1;32m    862\u001b[0m             \u001b[0mself\u001b[0m\u001b[0;34m.\u001b[0m\u001b[0m_parent_header\u001b[0m\u001b[0;34m,\u001b[0m\u001b[0;34m\u001b[0m\u001b[0;34m\u001b[0m\u001b[0m\n\u001b[0;32m--> 863\u001b[0;31m             \u001b[0mpassword\u001b[0m\u001b[0;34m=\u001b[0m\u001b[0;32mFalse\u001b[0m\u001b[0;34m,\u001b[0m\u001b[0;34m\u001b[0m\u001b[0;34m\u001b[0m\u001b[0m\n\u001b[0m\u001b[1;32m    864\u001b[0m         )\n\u001b[1;32m    865\u001b[0m \u001b[0;34m\u001b[0m\u001b[0m\n",
            "\u001b[0;32m/usr/local/lib/python3.7/dist-packages/ipykernel/kernelbase.py\u001b[0m in \u001b[0;36m_input_request\u001b[0;34m(self, prompt, ident, parent, password)\u001b[0m\n\u001b[1;32m    902\u001b[0m             \u001b[0;32mexcept\u001b[0m \u001b[0mKeyboardInterrupt\u001b[0m\u001b[0;34m:\u001b[0m\u001b[0;34m\u001b[0m\u001b[0;34m\u001b[0m\u001b[0m\n\u001b[1;32m    903\u001b[0m                 \u001b[0;31m# re-raise KeyboardInterrupt, to truncate traceback\u001b[0m\u001b[0;34m\u001b[0m\u001b[0;34m\u001b[0m\u001b[0;34m\u001b[0m\u001b[0m\n\u001b[0;32m--> 904\u001b[0;31m                 \u001b[0;32mraise\u001b[0m \u001b[0mKeyboardInterrupt\u001b[0m\u001b[0;34m(\u001b[0m\u001b[0;34m\"Interrupted by user\"\u001b[0m\u001b[0;34m)\u001b[0m \u001b[0;32mfrom\u001b[0m \u001b[0;32mNone\u001b[0m\u001b[0;34m\u001b[0m\u001b[0;34m\u001b[0m\u001b[0m\n\u001b[0m\u001b[1;32m    905\u001b[0m             \u001b[0;32mexcept\u001b[0m \u001b[0mException\u001b[0m \u001b[0;32mas\u001b[0m \u001b[0me\u001b[0m\u001b[0;34m:\u001b[0m\u001b[0;34m\u001b[0m\u001b[0;34m\u001b[0m\u001b[0m\n\u001b[1;32m    906\u001b[0m                 \u001b[0mself\u001b[0m\u001b[0;34m.\u001b[0m\u001b[0mlog\u001b[0m\u001b[0;34m.\u001b[0m\u001b[0mwarning\u001b[0m\u001b[0;34m(\u001b[0m\u001b[0;34m\"Invalid Message:\"\u001b[0m\u001b[0;34m,\u001b[0m \u001b[0mexc_info\u001b[0m\u001b[0;34m=\u001b[0m\u001b[0;32mTrue\u001b[0m\u001b[0;34m)\u001b[0m\u001b[0;34m\u001b[0m\u001b[0;34m\u001b[0m\u001b[0m\n",
            "\u001b[0;31mKeyboardInterrupt\u001b[0m: Interrupted by user"
          ]
        }
      ],
      "source": [
        "from IPython.core.display import clear_output\n",
        "#algoritmo Aditivo\n",
        "def algoritmo_aditivo(cantidad):\n",
        "  pseudoaleatorios = []\n",
        "  i=1\n",
        "  previos = [65,89, 98, 3, 69]\n",
        "  for i in range(cantidad):\n",
        "    r,previos = aditivo_complementario(previos, m=100)\n",
        "    pseudoaleatorios.append(r)\n",
        "  print(pseudoaleatorios)\n",
        "\n",
        "def aditivo_complementario(previos, m):\n",
        "  previos = previos [1:]+[(previos[-1]+previos[0])%m]\n",
        "  r = previos[-1]/(m-1)\n",
        "  return r,previos\n",
        "#Blum Blum\n",
        "def algoritmo_blum(cantidad, semilla):\n",
        "  pseudoaleatorios= []\n",
        "  for i in range(cantidad):\n",
        "      r, semilla = cuadrativo_complementario(semilla, a=1, b=0, c=0, m=11*23)\n",
        "      pseudoaleatorios.append(r)\n",
        "  print(pseudoaleatorios)\n",
        "#Cuadrativo\n",
        "def algoritmo_cuadrativo(cantidad,semilla):\n",
        "  pseudoaleatorios= []\n",
        "  for i in range(cantidad):\n",
        "    r, semilla = cuadrativo_complementario(semilla, a=26, b=27, c=27, m=2**3)\n",
        "    pseudoaleatorios.append(r)\n",
        "  print(pseudoaleatorios)\n",
        "  \n",
        "def cuadrativo_complementario(semilla, a, b, c, m):\n",
        "  entero = (a*semilla**2+b*semilla+c)%m\n",
        "  r = entero/(m-1)\n",
        "  return r, entero\n",
        "\n",
        "while(1==1):\n",
        "  clear_output()\n",
        "  print(\"--------Menu Principal--------\")\n",
        "  print(\"1. Algoritmo Aditivo\")\n",
        "  print(\"2. Algoritmo Blum Blum y Shub\")\n",
        "  print(\"3. Algoritmo Congruencial Cuadrativo\")\n",
        "  print(\"4. Algoritmo Lineal\")\n",
        "  opc= input(\"Elija un Algoritmo: \")\n",
        "  if opc==\"1\":\n",
        "    cantidad = input(\"Cuantos Numeros desea generar? \")\n",
        "    cantidad = int(cantidad)\n",
        "    print(\"Los numeros generados son: \")\n",
        "    algoritmo_aditivo(cantidad)\n",
        "  elif opc==\"2\":\n",
        "    cantidad = input(\"Cuantos Numeros desea generar? \")\n",
        "    cantidad = int(cantidad)\n",
        "    semilla = input(\"Introduzca la semilla \")\n",
        "    semilla = int(semilla)\n",
        "    print(\"Los numeros generados son: \")\n",
        "    algoritmo_blum(cantidad, semilla)\n",
        "  elif opc==\"3\":\n",
        "    cantidad = input(\"Cuantos Numeros desea generar? \")\n",
        "    cantidad = int(cantidad)\n",
        "    semilla = input(\"Introduzca la semilla \")\n",
        "    semilla = int(semilla)\n",
        "    print(\"Los numeros generados son: \")\n",
        "    algoritmo_cuadrativo(cantidad, semilla)\n",
        "  elif opc==\"3\":\n",
        "    cantidad = input(\"Cuantos Numeros desea generar? \")\n",
        "    cantidad = int(cantidad)\n",
        "    semilla = input(\"Introduzca la semilla \")\n",
        "    semilla = int(semilla)\n",
        "    print(\"Los numeros generados son: \")\n",
        "    algoritmo_cuadrativo(cantidad, semilla)\n",
        "  pausa = input(\"Presione cualquier tecla para volver al Menu... \")"
      ]
    }
  ]
}